{
 "cells": [
  {
   "cell_type": "markdown",
   "id": "6346c2da-2783-4418-8656-3d72ebc73f94",
   "metadata": {},
   "source": [
    "**This project aims to analyze student performance data to identify key factors influencing academic success. The dataset includes various demographic and academic variables, such as gender, ethnicity, parental education, lunch type, and test preparation course, along with math, reading, and writing scores. By applying statistical techniques and data visualization methods, this analysis seeks to understand the relations that impact student academic outcomes. The study will explore differences in performance across various groups, assess the role of external factors in academic achievement, and determine which attributes contribute most to student success. Through this analysis, valuable insights can be gained to support educational improvements and better decision-making in student learning strategies.**\n",
    "\n",
    "_**Study subject** = HighSchool Students_\n",
    "_**Authors**= Ahmed Bohazza, Bibi Nahida Shaik_"
   ]
  },
  {
   "cell_type": "code",
   "execution_count": 432,
   "id": "43c62b1e-d5c5-4262-9b73-5342612ec444",
   "metadata": {},
   "outputs": [],
   "source": [
    "import pandas as pd\n",
    "import seaborn as sns\n",
    "import matplotlib.pyplot as plt\n",
    "import seaborn as sns\n",
    "pd.set_option('display.max_rows',None)\n",
    "# import os \n",
    "# print(os.getcwd)"
   ]
  },
  {
   "cell_type": "code",
   "execution_count": 434,
   "id": "097e56a9-d681-44d0-b9b5-ec31babf3f53",
   "metadata": {},
   "outputs": [],
   "source": [
    "school_prfmc = pd.read_csv(\"StudentsPerformance.csv\") "
   ]
  },
  {
   "cell_type": "markdown",
   "id": "e6fcd0d6-83ea-46f9-b9bd-051b0c2f3a22",
   "metadata": {
    "jp-MarkdownHeadingCollapsed": true
   },
   "source": [
    "## Going over the data (Can skip)"
   ]
  },
  {
   "cell_type": "code",
   "execution_count": 437,
   "id": "d6e59b0f-9243-4a74-b7da-de49296fe439",
   "metadata": {},
   "outputs": [
    {
     "data": {
      "text/plain": [
       "gender                         0\n",
       "race/ethnicity                 0\n",
       "parental level of education    0\n",
       "lunch                          0\n",
       "test preparation course        0\n",
       "math score                     0\n",
       "reading score                  0\n",
       "writing score                  0\n",
       "dtype: int64"
      ]
     },
     "execution_count": 437,
     "metadata": {},
     "output_type": "execute_result"
    }
   ],
   "source": [
    "school_prfmc.isnull().sum()"
   ]
  },
  {
   "cell_type": "code",
   "execution_count": 439,
   "id": "f51804bf-d04e-4a2d-8700-636450e01187",
   "metadata": {},
   "outputs": [
    {
     "name": "stdout",
     "output_type": "stream",
     "text": [
      "<class 'pandas.core.frame.DataFrame'>\n",
      "RangeIndex: 1000 entries, 0 to 999\n",
      "Data columns (total 8 columns):\n",
      " #   Column                       Non-Null Count  Dtype \n",
      "---  ------                       --------------  ----- \n",
      " 0   gender                       1000 non-null   object\n",
      " 1   race/ethnicity               1000 non-null   object\n",
      " 2   parental level of education  1000 non-null   object\n",
      " 3   lunch                        1000 non-null   object\n",
      " 4   test preparation course      1000 non-null   object\n",
      " 5   math score                   1000 non-null   int64 \n",
      " 6   reading score                1000 non-null   int64 \n",
      " 7   writing score                1000 non-null   int64 \n",
      "dtypes: int64(3), object(5)\n",
      "memory usage: 62.6+ KB\n"
     ]
    }
   ],
   "source": [
    "school_prfmc.info()"
   ]
  },
  {
   "cell_type": "code",
   "execution_count": 441,
   "id": "38205821-0545-4f47-ab58-30c8af787928",
   "metadata": {},
   "outputs": [
    {
     "data": {
      "text/html": [
       "<div>\n",
       "<style scoped>\n",
       "    .dataframe tbody tr th:only-of-type {\n",
       "        vertical-align: middle;\n",
       "    }\n",
       "\n",
       "    .dataframe tbody tr th {\n",
       "        vertical-align: top;\n",
       "    }\n",
       "\n",
       "    .dataframe thead th {\n",
       "        text-align: right;\n",
       "    }\n",
       "</style>\n",
       "<table border=\"1\" class=\"dataframe\">\n",
       "  <thead>\n",
       "    <tr style=\"text-align: right;\">\n",
       "      <th></th>\n",
       "      <th>gender</th>\n",
       "      <th>race/ethnicity</th>\n",
       "      <th>parental level of education</th>\n",
       "      <th>lunch</th>\n",
       "      <th>test preparation course</th>\n",
       "      <th>math score</th>\n",
       "      <th>reading score</th>\n",
       "      <th>writing score</th>\n",
       "    </tr>\n",
       "  </thead>\n",
       "  <tbody>\n",
       "    <tr>\n",
       "      <th>0</th>\n",
       "      <td>female</td>\n",
       "      <td>group B</td>\n",
       "      <td>bachelor's degree</td>\n",
       "      <td>standard</td>\n",
       "      <td>none</td>\n",
       "      <td>72</td>\n",
       "      <td>72</td>\n",
       "      <td>74</td>\n",
       "    </tr>\n",
       "    <tr>\n",
       "      <th>1</th>\n",
       "      <td>female</td>\n",
       "      <td>group C</td>\n",
       "      <td>some college</td>\n",
       "      <td>standard</td>\n",
       "      <td>completed</td>\n",
       "      <td>69</td>\n",
       "      <td>90</td>\n",
       "      <td>88</td>\n",
       "    </tr>\n",
       "    <tr>\n",
       "      <th>2</th>\n",
       "      <td>female</td>\n",
       "      <td>group B</td>\n",
       "      <td>master's degree</td>\n",
       "      <td>standard</td>\n",
       "      <td>none</td>\n",
       "      <td>90</td>\n",
       "      <td>95</td>\n",
       "      <td>93</td>\n",
       "    </tr>\n",
       "    <tr>\n",
       "      <th>3</th>\n",
       "      <td>male</td>\n",
       "      <td>group A</td>\n",
       "      <td>associate's degree</td>\n",
       "      <td>free/reduced</td>\n",
       "      <td>none</td>\n",
       "      <td>47</td>\n",
       "      <td>57</td>\n",
       "      <td>44</td>\n",
       "    </tr>\n",
       "    <tr>\n",
       "      <th>4</th>\n",
       "      <td>male</td>\n",
       "      <td>group C</td>\n",
       "      <td>some college</td>\n",
       "      <td>standard</td>\n",
       "      <td>none</td>\n",
       "      <td>76</td>\n",
       "      <td>78</td>\n",
       "      <td>75</td>\n",
       "    </tr>\n",
       "    <tr>\n",
       "      <th>5</th>\n",
       "      <td>female</td>\n",
       "      <td>group B</td>\n",
       "      <td>associate's degree</td>\n",
       "      <td>standard</td>\n",
       "      <td>none</td>\n",
       "      <td>71</td>\n",
       "      <td>83</td>\n",
       "      <td>78</td>\n",
       "    </tr>\n",
       "  </tbody>\n",
       "</table>\n",
       "</div>"
      ],
      "text/plain": [
       "   gender race/ethnicity parental level of education         lunch  \\\n",
       "0  female        group B           bachelor's degree      standard   \n",
       "1  female        group C                some college      standard   \n",
       "2  female        group B             master's degree      standard   \n",
       "3    male        group A          associate's degree  free/reduced   \n",
       "4    male        group C                some college      standard   \n",
       "5  female        group B          associate's degree      standard   \n",
       "\n",
       "  test preparation course  math score  reading score  writing score  \n",
       "0                    none          72             72             74  \n",
       "1               completed          69             90             88  \n",
       "2                    none          90             95             93  \n",
       "3                    none          47             57             44  \n",
       "4                    none          76             78             75  \n",
       "5                    none          71             83             78  "
      ]
     },
     "execution_count": 441,
     "metadata": {},
     "output_type": "execute_result"
    }
   ],
   "source": [
    "school_prfmc.head(6)"
   ]
  },
  {
   "cell_type": "markdown",
   "id": "36d7b998-3af0-4911-8098-e3d247e66378",
   "metadata": {
    "jp-MarkdownHeadingCollapsed": true
   },
   "source": [
    "## Analysing the data (Can Skip)"
   ]
  },
  {
   "cell_type": "code",
   "execution_count": 444,
   "id": "f97cdfa9-e050-4770-8cf1-337183710345",
   "metadata": {
    "jupyter": {
     "source_hidden": true
    }
   },
   "outputs": [
    {
     "data": {
      "text/plain": [
       "gender\n",
       "female    518\n",
       "male      482\n",
       "Name: count, dtype: int64"
      ]
     },
     "execution_count": 444,
     "metadata": {},
     "output_type": "execute_result"
    }
   ],
   "source": [
    "school_prfmc.gender.value_counts()"
   ]
  },
  {
   "cell_type": "code",
   "execution_count": 446,
   "id": "d0f943cd-aff6-4bb6-84d2-b3f6eb2c2bc4",
   "metadata": {
    "jupyter": {
     "source_hidden": true
    }
   },
   "outputs": [
    {
     "data": {
      "text/plain": [
       "race/ethnicity\n",
       "group C    319\n",
       "group D    262\n",
       "group B    190\n",
       "group E    140\n",
       "group A     89\n",
       "Name: count, dtype: int64"
      ]
     },
     "execution_count": 446,
     "metadata": {},
     "output_type": "execute_result"
    }
   ],
   "source": [
    "school_prfmc['race/ethnicity'].value_counts()"
   ]
  },
  {
   "cell_type": "code",
   "execution_count": 516,
   "id": "f54f3146-4269-4d24-8ce7-8f98dfa50c2d",
   "metadata": {
    "collapsed": true,
    "jupyter": {
     "outputs_hidden": true
    },
    "scrolled": true
   },
   "outputs": [
    {
     "data": {
      "text/plain": [
       "parental level of education\n",
       "some college          226\n",
       "associate's degree    222\n",
       "high school           196\n",
       "some high school      179\n",
       "bachelor's degree     118\n",
       "master's degree        59\n",
       "Name: count, dtype: int64"
      ]
     },
     "execution_count": 516,
     "metadata": {},
     "output_type": "execute_result"
    }
   ],
   "source": [
    "school_prfmc['parental level of education'].value_counts()"
   ]
  },
  {
   "cell_type": "code",
   "execution_count": 518,
   "id": "c73388b0-5c07-4413-b0e5-72217302167d",
   "metadata": {
    "collapsed": true,
    "jupyter": {
     "outputs_hidden": true
    },
    "scrolled": true
   },
   "outputs": [
    {
     "data": {
      "text/plain": [
       "parental level of education\n",
       "some college          226\n",
       "associate's degree    222\n",
       "high school           196\n",
       "some high school      179\n",
       "bachelor's degree     118\n",
       "master's degree        59\n",
       "Name: count, dtype: int64"
      ]
     },
     "execution_count": 518,
     "metadata": {},
     "output_type": "execute_result"
    }
   ],
   "source": [
    "school_prfmc['parental level of education'].value_counts()"
   ]
  },
  {
   "cell_type": "code",
   "execution_count": 520,
   "id": "ab44d0dc-faaf-48dc-8b96-2ba70c792224",
   "metadata": {
    "collapsed": true,
    "jupyter": {
     "outputs_hidden": true
    }
   },
   "outputs": [
    {
     "data": {
      "text/plain": [
       "lunch\n",
       "standard        645\n",
       "free/reduced    355\n",
       "Name: count, dtype: int64"
      ]
     },
     "execution_count": 520,
     "metadata": {},
     "output_type": "execute_result"
    }
   ],
   "source": [
    "school_prfmc['lunch'].value_counts()"
   ]
  },
  {
   "cell_type": "code",
   "execution_count": 522,
   "id": "fb988556-36ad-4297-a1e6-7723f2c966b5",
   "metadata": {
    "collapsed": true,
    "jupyter": {
     "outputs_hidden": true
    }
   },
   "outputs": [
    {
     "data": {
      "text/plain": [
       "test preparation course\n",
       "none         642\n",
       "completed    358\n",
       "Name: count, dtype: int64"
      ]
     },
     "execution_count": 522,
     "metadata": {},
     "output_type": "execute_result"
    }
   ],
   "source": [
    "school_prfmc['test preparation course'].value_counts()"
   ]
  },
  {
   "cell_type": "code",
   "execution_count": 612,
   "id": "6a3ce99a-0765-47fb-9d77-fc8e7da1db89",
   "metadata": {},
   "outputs": [],
   "source": [
    "# school_prfmc.groupby('parental level of education')['math score'].describe()"
   ]
  },
  {
   "cell_type": "code",
   "execution_count": 550,
   "id": "84724c3a-2ef8-4470-892d-3ac1e6ffad4a",
   "metadata": {},
   "outputs": [],
   "source": [
    "# school_prfmc['parents education']=\n",
    "# school_prfmc['parental level of education'].apply(lambda x: pd.Series(change_edu(x)))"
   ]
  },
  {
   "cell_type": "markdown",
   "id": "9ee81082-de19-4a32-94d6-f6bc48b133f1",
   "metadata": {
    "jp-MarkdownHeadingCollapsed": true
   },
   "source": [
    "## Data Cleaning (Must run before visualization)"
   ]
  },
  {
   "cell_type": "markdown",
   "id": "890a4122-cf86-4be5-8ab3-1c8a28fbd2f3",
   "metadata": {},
   "source": [
    "### Adding columns"
   ]
  },
  {
   "cell_type": "markdown",
   "id": "833a94b3-3bf1-4089-bb87-5118f3085536",
   "metadata": {},
   "source": [
    "#### Defined  a function that will return a list of two values based on the ethnicity/race column [race,ethnicity]"
   ]
  },
  {
   "cell_type": "code",
   "execution_count": 450,
   "id": "476f9278-dbd3-4377-ada5-d4bb8bfcb7c2",
   "metadata": {},
   "outputs": [],
   "source": [
    "def ethnicity(string):\n",
    "  if string == \"group A\":\n",
    "      ethnicity = ['White','Britsh']#'White-British'\n",
    "  elif string == \"group B\":\n",
    "      ethnicity = ['White','Irish'] #'Whiten Irish'\n",
    "  elif string == \"group C\":\n",
    "      ethnicity = ['White','Other'] #'Other White Races'\n",
    "  elif string == \"group D\":\n",
    "      ethnicity = ['Mix','White and black Caribbean']#'White and black Carrabian'\n",
    "  elif string == \"group E\":\n",
    "      ethnicity = ['Mix','White and black Caribbean'] #'White Asian'\n",
    "  else:\n",
    "      ethnicity=[\"unKnown\",'Unknown']\n",
    "  return ethnicity"
   ]
  },
  {
   "cell_type": "markdown",
   "id": "489a2f94-0142-45e9-a728-c9d3b81e813e",
   "metadata": {},
   "source": [
    "#### Defined a new column for parents education the combines all higher education in one category and the rest under highschool"
   ]
  },
  {
   "cell_type": "code",
   "execution_count": 453,
   "id": "379c12dc-2d1f-49a8-8472-d829856c26e5",
   "metadata": {},
   "outputs": [],
   "source": [
    "# def change_edu(edu):\n",
    "#     if edu in [\"associate's degree\", \"bachelor's degree\" , \"master's degree\",\"some college\"]:\n",
    "#         level='Higher level education'\n",
    "#     else:\n",
    "#         level='High school'\n",
    "#     return level\n",
    "        \n",
    "change_edu={\"associate's degree\":'Higher Education',\n",
    "           \"bachelor's degree\":'Higher Education',\n",
    "           \"master's degree\":\"Higher Education\",\n",
    "           \"some college\":'Higher Education',\n",
    "          'some high school':'High School',\n",
    "          'high school':'High School'}\n",
    "school_prfmc['parents edu']=school_prfmc['parental level of education'].map(change_edu)"
   ]
  },
  {
   "cell_type": "code",
   "execution_count": 455,
   "id": "031e4038-84fb-4bce-8b9a-4b84bbd972db",
   "metadata": {},
   "outputs": [],
   "source": [
    "# The function is applied here using apply function, pd.Series function to converts the list into a Pandas Series, which allows it to be split into separate columns.\n",
    "school_prfmc[['Race','Ethnicity']]=school_prfmc[\"race/ethnicity\"].apply(lambda x: pd.Series(ethnicity(x)))"
   ]
  },
  {
   "cell_type": "markdown",
   "id": "73e68ed6-bdee-4303-b487-937557c37f67",
   "metadata": {},
   "source": [
    "#### Additional column to show the pass /fail based on avg for each student"
   ]
  },
  {
   "cell_type": "code",
   "execution_count": 457,
   "id": "f8c24934-76b2-47ec-bf39-2da603a32f83",
   "metadata": {},
   "outputs": [],
   "source": [
    "# df['Average_Score'] = my.iloc[:, 1:].mean(axis=1)\n",
    "school_prfmc['Average score'] = school_prfmc[[\"math score\", \"reading score\", \"writing score\"]].mean(axis=1).round(2)"
   ]
  },
  {
   "cell_type": "code",
   "execution_count": 458,
   "id": "1b166a14-a62b-4d2d-8de8-985439f501aa",
   "metadata": {},
   "outputs": [],
   "source": [
    "# def categorize_score(x):\n",
    "#     if x >= 90:\n",
    "#         value='Excellent'\n",
    "#     elif x >= 80:\n",
    "#         value= 'Very Good'\n",
    "#     elif x >= 70:\n",
    "#         value= 'Good'\n",
    "#     elif x >= 60:\n",
    "#         value= 'poor'\n",
    "#     else:\n",
    "#         value= 'Fail'\n",
    "#     return value\n",
    "# school_prfmc['Average pass'] =school_prfmc['Average score'].apply(categorize_score)\n",
    "# (school_prfmc['Average pass'].value_counts(normalize=True)*100).plot(kind='barh', color= sns.color_palette())\n",
    "# (school_prfmc['Average pass'].value_counts(normalize=True)*100)\n",
    "\n",
    "school_prfmc['Average pass'] =school_prfmc['Average score'].apply(lambda x:'Pass' if x>=60 else 'Fail')"
   ]
  },
  {
   "cell_type": "code",
   "execution_count": 459,
   "id": "eab4aa27-1257-468a-9212-c0a6eef2eb74",
   "metadata": {},
   "outputs": [
    {
     "name": "stderr",
     "output_type": "stream",
     "text": [
      "C:\\Users\\angel\\AppData\\Local\\Temp\\ipykernel_23704\\3861796619.py:3: FutureWarning: DataFrame.applymap has been deprecated. Use DataFrame.map instead.\n",
      "  'writing score']].applymap(lambda x:'Pass' if x>=60 else  'Fail')\n"
     ]
    }
   ],
   "source": [
    "school_prfmc[['Math_pass','Reading_pass','Writing_pass']]=school_prfmc[['math score',\n",
    "                                                                        'reading score',\n",
    "                                                                        'writing score']].applymap(lambda x:'Pass' if x>=60 else  'Fail')"
   ]
  },
  {
   "cell_type": "markdown",
   "id": "982c0d86-3869-4d63-8389-32327a8655b9",
   "metadata": {},
   "source": [
    "#### To Categorize the score distribution"
   ]
  },
  {
   "cell_type": "code",
   "execution_count": 461,
   "id": "9114b4d0-b438-4bdd-ab74-874d4d68bb86",
   "metadata": {},
   "outputs": [],
   "source": [
    "def categorize_score(avg_score):\n",
    "    if avg_score >= 90:\n",
    "        return '90+'\n",
    "    elif avg_score >= 80:\n",
    "        return '80+'\n",
    "    elif avg_score >= 70:\n",
    "        return '70+'\n",
    "    elif avg_score >= 60:\n",
    "        return '60+'\n",
    "    else:\n",
    "        return 'Below 60'\n",
    "\n",
    "school_prfmc['Score Category'] = school_prfmc['Average score'].apply(categorize_score)"
   ]
  },
  {
   "cell_type": "code",
   "execution_count": 462,
   "id": "a7957950-6793-4507-a086-1edc9128b7e5",
   "metadata": {},
   "outputs": [
    {
     "name": "stdout",
     "output_type": "stream",
     "text": [
      "<class 'pandas.core.frame.DataFrame'>\n",
      "RangeIndex: 1000 entries, 0 to 999\n",
      "Data columns (total 17 columns):\n",
      " #   Column                       Non-Null Count  Dtype  \n",
      "---  ------                       --------------  -----  \n",
      " 0   gender                       1000 non-null   object \n",
      " 1   race/ethnicity               1000 non-null   object \n",
      " 2   parental level of education  1000 non-null   object \n",
      " 3   lunch                        1000 non-null   object \n",
      " 4   test preparation course      1000 non-null   object \n",
      " 5   math score                   1000 non-null   int64  \n",
      " 6   reading score                1000 non-null   int64  \n",
      " 7   writing score                1000 non-null   int64  \n",
      " 8   parents edu                  1000 non-null   object \n",
      " 9   Race                         1000 non-null   object \n",
      " 10  Ethnicity                    1000 non-null   object \n",
      " 11  Average score                1000 non-null   float64\n",
      " 12  Average pass                 1000 non-null   object \n",
      " 13  Math_pass                    1000 non-null   object \n",
      " 14  Reading_pass                 1000 non-null   object \n",
      " 15  Writing_pass                 1000 non-null   object \n",
      " 16  Score Category               1000 non-null   object \n",
      "dtypes: float64(1), int64(3), object(13)\n",
      "memory usage: 132.9+ KB\n"
     ]
    }
   ],
   "source": [
    "school_prfmc.info()"
   ]
  },
  {
   "cell_type": "code",
   "execution_count": 463,
   "id": "f9fd9073-f2db-446a-bfc0-50596ae6eb2a",
   "metadata": {},
   "outputs": [
    {
     "data": {
      "text/html": [
       "<div>\n",
       "<style scoped>\n",
       "    .dataframe tbody tr th:only-of-type {\n",
       "        vertical-align: middle;\n",
       "    }\n",
       "\n",
       "    .dataframe tbody tr th {\n",
       "        vertical-align: top;\n",
       "    }\n",
       "\n",
       "    .dataframe thead th {\n",
       "        text-align: right;\n",
       "    }\n",
       "</style>\n",
       "<table border=\"1\" class=\"dataframe\">\n",
       "  <thead>\n",
       "    <tr style=\"text-align: right;\">\n",
       "      <th></th>\n",
       "      <th>gender</th>\n",
       "      <th>race/ethnicity</th>\n",
       "      <th>parental level of education</th>\n",
       "      <th>lunch</th>\n",
       "      <th>test preparation course</th>\n",
       "      <th>math score</th>\n",
       "      <th>reading score</th>\n",
       "      <th>writing score</th>\n",
       "      <th>parents edu</th>\n",
       "      <th>Race</th>\n",
       "      <th>Ethnicity</th>\n",
       "      <th>Average score</th>\n",
       "      <th>Average pass</th>\n",
       "      <th>Math_pass</th>\n",
       "      <th>Reading_pass</th>\n",
       "      <th>Writing_pass</th>\n",
       "      <th>Score Category</th>\n",
       "    </tr>\n",
       "  </thead>\n",
       "  <tbody>\n",
       "    <tr>\n",
       "      <th>0</th>\n",
       "      <td>female</td>\n",
       "      <td>group B</td>\n",
       "      <td>bachelor's degree</td>\n",
       "      <td>standard</td>\n",
       "      <td>none</td>\n",
       "      <td>72</td>\n",
       "      <td>72</td>\n",
       "      <td>74</td>\n",
       "      <td>Higher Education</td>\n",
       "      <td>White</td>\n",
       "      <td>Irish</td>\n",
       "      <td>72.67</td>\n",
       "      <td>Pass</td>\n",
       "      <td>Pass</td>\n",
       "      <td>Pass</td>\n",
       "      <td>Pass</td>\n",
       "      <td>70+</td>\n",
       "    </tr>\n",
       "    <tr>\n",
       "      <th>1</th>\n",
       "      <td>female</td>\n",
       "      <td>group C</td>\n",
       "      <td>some college</td>\n",
       "      <td>standard</td>\n",
       "      <td>completed</td>\n",
       "      <td>69</td>\n",
       "      <td>90</td>\n",
       "      <td>88</td>\n",
       "      <td>Higher Education</td>\n",
       "      <td>White</td>\n",
       "      <td>Other</td>\n",
       "      <td>82.33</td>\n",
       "      <td>Pass</td>\n",
       "      <td>Pass</td>\n",
       "      <td>Pass</td>\n",
       "      <td>Pass</td>\n",
       "      <td>80+</td>\n",
       "    </tr>\n",
       "    <tr>\n",
       "      <th>2</th>\n",
       "      <td>female</td>\n",
       "      <td>group B</td>\n",
       "      <td>master's degree</td>\n",
       "      <td>standard</td>\n",
       "      <td>none</td>\n",
       "      <td>90</td>\n",
       "      <td>95</td>\n",
       "      <td>93</td>\n",
       "      <td>Higher Education</td>\n",
       "      <td>White</td>\n",
       "      <td>Irish</td>\n",
       "      <td>92.67</td>\n",
       "      <td>Pass</td>\n",
       "      <td>Pass</td>\n",
       "      <td>Pass</td>\n",
       "      <td>Pass</td>\n",
       "      <td>90+</td>\n",
       "    </tr>\n",
       "    <tr>\n",
       "      <th>3</th>\n",
       "      <td>male</td>\n",
       "      <td>group A</td>\n",
       "      <td>associate's degree</td>\n",
       "      <td>free/reduced</td>\n",
       "      <td>none</td>\n",
       "      <td>47</td>\n",
       "      <td>57</td>\n",
       "      <td>44</td>\n",
       "      <td>Higher Education</td>\n",
       "      <td>White</td>\n",
       "      <td>Britsh</td>\n",
       "      <td>49.33</td>\n",
       "      <td>Fail</td>\n",
       "      <td>Fail</td>\n",
       "      <td>Fail</td>\n",
       "      <td>Fail</td>\n",
       "      <td>Below 60</td>\n",
       "    </tr>\n",
       "    <tr>\n",
       "      <th>4</th>\n",
       "      <td>male</td>\n",
       "      <td>group C</td>\n",
       "      <td>some college</td>\n",
       "      <td>standard</td>\n",
       "      <td>none</td>\n",
       "      <td>76</td>\n",
       "      <td>78</td>\n",
       "      <td>75</td>\n",
       "      <td>Higher Education</td>\n",
       "      <td>White</td>\n",
       "      <td>Other</td>\n",
       "      <td>76.33</td>\n",
       "      <td>Pass</td>\n",
       "      <td>Pass</td>\n",
       "      <td>Pass</td>\n",
       "      <td>Pass</td>\n",
       "      <td>70+</td>\n",
       "    </tr>\n",
       "  </tbody>\n",
       "</table>\n",
       "</div>"
      ],
      "text/plain": [
       "   gender race/ethnicity parental level of education         lunch  \\\n",
       "0  female        group B           bachelor's degree      standard   \n",
       "1  female        group C                some college      standard   \n",
       "2  female        group B             master's degree      standard   \n",
       "3    male        group A          associate's degree  free/reduced   \n",
       "4    male        group C                some college      standard   \n",
       "\n",
       "  test preparation course  math score  reading score  writing score  \\\n",
       "0                    none          72             72             74   \n",
       "1               completed          69             90             88   \n",
       "2                    none          90             95             93   \n",
       "3                    none          47             57             44   \n",
       "4                    none          76             78             75   \n",
       "\n",
       "        parents edu   Race Ethnicity  Average score Average pass Math_pass  \\\n",
       "0  Higher Education  White     Irish          72.67         Pass      Pass   \n",
       "1  Higher Education  White     Other          82.33         Pass      Pass   \n",
       "2  Higher Education  White     Irish          92.67         Pass      Pass   \n",
       "3  Higher Education  White    Britsh          49.33         Fail      Fail   \n",
       "4  Higher Education  White     Other          76.33         Pass      Pass   \n",
       "\n",
       "  Reading_pass Writing_pass Score Category  \n",
       "0         Pass         Pass            70+  \n",
       "1         Pass         Pass            80+  \n",
       "2         Pass         Pass            90+  \n",
       "3         Fail         Fail       Below 60  \n",
       "4         Pass         Pass            70+  "
      ]
     },
     "execution_count": 463,
     "metadata": {},
     "output_type": "execute_result"
    }
   ],
   "source": [
    "school_prfmc.head(5)"
   ]
  },
  {
   "cell_type": "markdown",
   "id": "62ca685a-5166-465f-bade-a5c3a7988776",
   "metadata": {},
   "source": [
    "## Visualization"
   ]
  },
  {
   "cell_type": "code",
   "execution_count": 71,
   "id": "7949f004-5f3a-40db-9776-5fb572c738b6",
   "metadata": {},
   "outputs": [],
   "source": [
    "# school_prfmc.head(5)"
   ]
  },
  {
   "cell_type": "markdown",
   "id": "200ef8e1-3f86-4a84-afc6-cb9f16bf42f0",
   "metadata": {},
   "source": [
    "### 1-find average score for each student **DONE**"
   ]
  },
  {
   "cell_type": "code",
   "execution_count": 598,
   "id": "ca91ed16-ea59-4d25-8d50-e782d7763023",
   "metadata": {},
   "outputs": [
    {
     "data": {
      "image/png": "[encoded data removed]",
      "text/plain": [
       "<Figure size 640x480 with 1 Axes>"
      ]
     },
     "metadata": {},
     "output_type": "display_data"
    }
   ],
   "source": [
    "school_prfmc['Average pass'].value_counts().plot(kind='barh', color= sns.color_palette())\n",
    "plt.title('Pass-Fail based on Average')\n",
    "plt.xlabel('Number of students')\n",
    "plt.ylabel('')\n",
    "plt.savefig('PASSFAIL')"
   ]
  },
  {
   "cell_type": "code",
   "execution_count": 522,
   "id": "415f85a6-ef2a-486b-ba40-3dff368190e5",
   "metadata": {},
   "outputs": [
    {
     "name": "stderr",
     "output_type": "stream",
     "text": [
      "C:\\Users\\angel\\AppData\\Local\\Temp\\ipykernel_23704\\1389950150.py:4: FutureWarning: \n",
      "\n",
      "Passing `palette` without assigning `hue` is deprecated and will be removed in v0.14.0. Assign the `x` variable to `hue` and set `legend=False` for the same effect.\n",
      "\n",
      "  sns.countplot(data=school_prfmc, x='Score Category', palette='Set1', order=category_order)\n"
     ]
    },
    {
     "data": {
      "image/png": "[encoded data removed]",
      "text/plain": [
       "<Figure size 800x400 with 1 Axes>"
      ]
     },
     "metadata": {},
     "output_type": "display_data"
    },
    {
     "data": {
      "text/plain": [
       "<Figure size 640x480 with 0 Axes>"
      ]
     },
     "metadata": {},
     "output_type": "display_data"
    }
   ],
   "source": [
    "category_order = ['Below 60', '60+', '70+', '80+', '90+']\n",
    "plt.figure(figsize=(8, 4))\n",
    "\n",
    "sns.countplot(data=school_prfmc, x='Score Category', palette='Set1', order=category_order)\n",
    "\n",
    "# for p in plt.gca().patches:\n",
    "#     plt.gca().annotate(f'{p.get_height()}', (p.get_x() + p.get_width() / 2., p.get_height()), \n",
    "#                        ha='center', va='center', fontsize=12, color='black', xytext=(0, 5), textcoords='offset points')\n",
    "\n",
    "plt.title('Distribution of Scores by Category')\n",
    "plt.xlabel('Score Category')\n",
    "plt.ylabel('Number of Students')\n",
    "plt.show()\n",
    "plt.savefig('Distribution of Scores by Category')"
   ]
  },
  {
   "cell_type": "markdown",
   "id": "2c83f1f8-0692-4567-93fa-9dc2a15559ea",
   "metadata": {},
   "source": [
    "### 2- Find the gender/ avg score  which better **DONE**"
   ]
  },
  {
   "cell_type": "code",
   "execution_count": 476,
   "id": "851ce63b-415a-4e06-a506-7a8abe533f3d",
   "metadata": {
    "jupyter": {
     "source_hidden": true
    }
   },
   "outputs": [
    {
     "data": {
      "text/html": [
       "<div>\n",
       "<style scoped>\n",
       "    .dataframe tbody tr th:only-of-type {\n",
       "        vertical-align: middle;\n",
       "    }\n",
       "\n",
       "    .dataframe tbody tr th {\n",
       "        vertical-align: top;\n",
       "    }\n",
       "\n",
       "    .dataframe thead th {\n",
       "        text-align: right;\n",
       "    }\n",
       "</style>\n",
       "<table border=\"1\" class=\"dataframe\">\n",
       "  <thead>\n",
       "    <tr style=\"text-align: right;\">\n",
       "      <th></th>\n",
       "      <th>gender</th>\n",
       "      <th>race/ethnicity</th>\n",
       "      <th>parental level of education</th>\n",
       "      <th>lunch</th>\n",
       "      <th>test preparation course</th>\n",
       "      <th>math score</th>\n",
       "      <th>reading score</th>\n",
       "      <th>writing score</th>\n",
       "      <th>parents edu</th>\n",
       "      <th>Race</th>\n",
       "      <th>Ethnicity</th>\n",
       "      <th>Average score</th>\n",
       "      <th>Average pass</th>\n",
       "      <th>Math_pass</th>\n",
       "      <th>Reading_pass</th>\n",
       "      <th>Writing_pass</th>\n",
       "      <th>Score Category</th>\n",
       "    </tr>\n",
       "  </thead>\n",
       "  <tbody>\n",
       "    <tr>\n",
       "      <th>0</th>\n",
       "      <td>female</td>\n",
       "      <td>group B</td>\n",
       "      <td>bachelor's degree</td>\n",
       "      <td>standard</td>\n",
       "      <td>none</td>\n",
       "      <td>72</td>\n",
       "      <td>72</td>\n",
       "      <td>74</td>\n",
       "      <td>Higher Education</td>\n",
       "      <td>White</td>\n",
       "      <td>Irish</td>\n",
       "      <td>72.67</td>\n",
       "      <td>Pass</td>\n",
       "      <td>Pass</td>\n",
       "      <td>Pass</td>\n",
       "      <td>Pass</td>\n",
       "      <td>70+</td>\n",
       "    </tr>\n",
       "    <tr>\n",
       "      <th>1</th>\n",
       "      <td>female</td>\n",
       "      <td>group C</td>\n",
       "      <td>some college</td>\n",
       "      <td>standard</td>\n",
       "      <td>completed</td>\n",
       "      <td>69</td>\n",
       "      <td>90</td>\n",
       "      <td>88</td>\n",
       "      <td>Higher Education</td>\n",
       "      <td>White</td>\n",
       "      <td>Other</td>\n",
       "      <td>82.33</td>\n",
       "      <td>Pass</td>\n",
       "      <td>Pass</td>\n",
       "      <td>Pass</td>\n",
       "      <td>Pass</td>\n",
       "      <td>80+</td>\n",
       "    </tr>\n",
       "    <tr>\n",
       "      <th>2</th>\n",
       "      <td>female</td>\n",
       "      <td>group B</td>\n",
       "      <td>master's degree</td>\n",
       "      <td>standard</td>\n",
       "      <td>none</td>\n",
       "      <td>90</td>\n",
       "      <td>95</td>\n",
       "      <td>93</td>\n",
       "      <td>Higher Education</td>\n",
       "      <td>White</td>\n",
       "      <td>Irish</td>\n",
       "      <td>92.67</td>\n",
       "      <td>Pass</td>\n",
       "      <td>Pass</td>\n",
       "      <td>Pass</td>\n",
       "      <td>Pass</td>\n",
       "      <td>90+</td>\n",
       "    </tr>\n",
       "    <tr>\n",
       "      <th>3</th>\n",
       "      <td>male</td>\n",
       "      <td>group A</td>\n",
       "      <td>associate's degree</td>\n",
       "      <td>free/reduced</td>\n",
       "      <td>none</td>\n",
       "      <td>47</td>\n",
       "      <td>57</td>\n",
       "      <td>44</td>\n",
       "      <td>Higher Education</td>\n",
       "      <td>White</td>\n",
       "      <td>Britsh</td>\n",
       "      <td>49.33</td>\n",
       "      <td>Fail</td>\n",
       "      <td>Fail</td>\n",
       "      <td>Fail</td>\n",
       "      <td>Fail</td>\n",
       "      <td>Below 60</td>\n",
       "    </tr>\n",
       "    <tr>\n",
       "      <th>4</th>\n",
       "      <td>male</td>\n",
       "      <td>group C</td>\n",
       "      <td>some college</td>\n",
       "      <td>standard</td>\n",
       "      <td>none</td>\n",
       "      <td>76</td>\n",
       "      <td>78</td>\n",
       "      <td>75</td>\n",
       "      <td>Higher Education</td>\n",
       "      <td>White</td>\n",
       "      <td>Other</td>\n",
       "      <td>76.33</td>\n",
       "      <td>Pass</td>\n",
       "      <td>Pass</td>\n",
       "      <td>Pass</td>\n",
       "      <td>Pass</td>\n",
       "      <td>70+</td>\n",
       "    </tr>\n",
       "  </tbody>\n",
       "</table>\n",
       "</div>"
      ],
      "text/plain": [
       "   gender race/ethnicity parental level of education         lunch  \\\n",
       "0  female        group B           bachelor's degree      standard   \n",
       "1  female        group C                some college      standard   \n",
       "2  female        group B             master's degree      standard   \n",
       "3    male        group A          associate's degree  free/reduced   \n",
       "4    male        group C                some college      standard   \n",
       "\n",
       "  test preparation course  math score  reading score  writing score  \\\n",
       "0                    none          72             72             74   \n",
       "1               completed          69             90             88   \n",
       "2                    none          90             95             93   \n",
       "3                    none          47             57             44   \n",
       "4                    none          76             78             75   \n",
       "\n",
       "        parents edu   Race Ethnicity  Average score Average pass Math_pass  \\\n",
       "0  Higher Education  White     Irish          72.67         Pass      Pass   \n",
       "1  Higher Education  White     Other          82.33         Pass      Pass   \n",
       "2  Higher Education  White     Irish          92.67         Pass      Pass   \n",
       "3  Higher Education  White    Britsh          49.33         Fail      Fail   \n",
       "4  Higher Education  White     Other          76.33         Pass      Pass   \n",
       "\n",
       "  Reading_pass Writing_pass Score Category  \n",
       "0         Pass         Pass            70+  \n",
       "1         Pass         Pass            80+  \n",
       "2         Pass         Pass            90+  \n",
       "3         Fail         Fail       Below 60  \n",
       "4         Pass         Pass            70+  "
      ]
     },
     "execution_count": 476,
     "metadata": {},
     "output_type": "execute_result"
    }
   ],
   "source": [
    "school_prfmc.head()"
   ]
  },
  {
   "cell_type": "code",
   "execution_count": 478,
   "id": "470e57b1-d6d0-4672-a522-4ba1c35eb488",
   "metadata": {},
   "outputs": [
    {
     "data": {
      "image/png": "[encoded data removed]",
      "text/plain": [
       "<Figure size 640x480 with 1 Axes>"
      ]
     },
     "metadata": {},
     "output_type": "display_data"
    }
   ],
   "source": [
    "genderPassFail=(school_prfmc.groupby('gender')['Average pass'].value_counts(normalize=True).unstack()*100).plot(kind='bar', ylim=(0,100), stacked=True)\n",
    "genderPassFail.set_xlabel('Gender')\n",
    "genderPassFail.set_ylabel('Pass/fail %')\n",
    "genderPassFail.set_title('Pass fail based on gender')\n",
    "plt.tight_layout()\n",
    "plt.savefig('Gender PassFail')"
   ]
  },
  {
   "cell_type": "markdown",
   "id": "69d8fc91-8a4f-4d7a-aad2-9b942c8adb53",
   "metadata": {},
   "source": [
    "### 3- Find the gender/ avg score  which better with each sub **DONE**"
   ]
  },
  {
   "cell_type": "code",
   "execution_count": 480,
   "id": "e7c78f07-cc75-486f-8235-76991a140593",
   "metadata": {},
   "outputs": [],
   "source": [
    "# # This is to verify the results\n",
    "# for i, s in enumerate(subjects):\n",
    "#     (school_prfmc.groupby([school_prfmc.gender])[s].value_counts(normalize=True).unstack()*100).round(1)['Pass'].plot(kind='barh', title = s)\n",
    "# plt.show()\n"
   ]
  },
  {
   "cell_type": "code",
   "execution_count": 530,
   "id": "2b6e1098-3a8d-4bfc-9460-55057752c0ff",
   "metadata": {},
   "outputs": [
    {
     "data": {
      "image/png": "[encoded data removed]",
      "text/plain": [
       "<Figure size 1000x400 with 3 Axes>"
      ]
     },
     "metadata": {},
     "output_type": "display_data"
    }
   ],
   "source": [
    "fig, axes = plt.subplots(1, 3, figsize=(10, 4), sharey=True, sharex = True)\n",
    "subjects=['Math_pass','Reading_pass','Writing_pass']\n",
    "# palette=['green','blue','red']\n",
    "# n=0\n",
    "for i, s in enumerate(subjects):\n",
    "    \n",
    "    # school_prfmc[school_prfmc[s]=='Pass'].groupby([school_prfmc.gender, school_prfmc[s]])[s].count().unstack().plot(kind='bar',\n",
    "    (school_prfmc.groupby([school_prfmc.gender])[s].value_counts(normalize=True).unstack()*100).round(1)['Pass'].plot(kind='barh',\n",
    "                                                                                                                      ax=axes[i],\n",
    "                                                                                                                      ylabel='Student Gender',\n",
    "                                                                                                                      xlabel='Number of students',\n",
    "                                                                                                                      title= s, xlim=(0,100),\n",
    "                                                                                                                      color=['pink', 'blue'])\n",
    "    # n+=1\n",
    "\n",
    "# # Reading Pass/Fail\n",
    "# school_prfmc.groupby([school_prfmc.gender, school_prfmc.Reading_pass]).Reading_pass.count().unstack().plot(kind='bar',\n",
    "#                                                                                                            ax=axes[1],\n",
    "#                                                                                                            xlabel='Student Gender',\n",
    "#                                                                                                            ylabel='Number of students',\n",
    "#                                                                                                            title='Reading Pass/Fail')\n",
    "\n",
    "# school_prfmc.groupby([school_prfmc.gender, school_prfmc.Writing_pass]).Writing_pass.count().unstack().plot(kind='bar',\n",
    "#                                                                                                            ax=axes[2],\n",
    "#                                                                                                            xlabel='Student Gender',\n",
    "#                                                                                                            ylabel='Number of students',\n",
    "#                                                                                                            title='Writing Pass/Fail')\n",
    "\n",
    "plt.tight_layout() \n",
    "plt.savefig('Pass students by gender for different subs')\n",
    "# filt=school_prfmc['Math_pass']=='Pass'\n",
    "# school_prfmc.groupby(['gender',filt])"
   ]
  },
  {
   "cell_type": "code",
   "execution_count": 484,
   "id": "bd0709d4-af85-4306-98f2-1f16c1aa88dd",
   "metadata": {},
   "outputs": [
    {
     "data": {
      "image/png": "[encoded data removed]",
      "text/plain": [
       "<Figure size 800x500 with 4 Axes>"
      ]
     },
     "metadata": {},
     "output_type": "display_data"
    }
   ],
   "source": [
    "plt.figure(figsize=(8, 5))\n",
    "plt.subplot(2, 2, 1)\n",
    "sns.histplot(school_prfmc['math score'], color='blue', bins=20)\n",
    "plt.title('Math Score Distribution')\n",
    "\n",
    "plt.subplot(2, 2, 2)\n",
    "sns.histplot(school_prfmc['reading score'],color='green', bins=20)\n",
    "plt.title('Reading Score Distribution')\n",
    "\n",
    "plt.subplot(2, 2, 3)\n",
    "sns.histplot(school_prfmc['writing score'], color='red', bins=20)\n",
    "plt.title('Writing Score Distribution')\n",
    "\n",
    "plt.subplot(2, 2, 4)\n",
    "sns.histplot(school_prfmc['Average score'], color='purple', bins=20)\n",
    "plt.title('Average Score Distribution')\n",
    "\n",
    "plt.tight_layout()\n",
    "plt.show()\n"
   ]
  },
  {
   "cell_type": "markdown",
   "id": "e97dd32f-c0f1-4747-a0eb-60b93b87c110",
   "metadata": {},
   "source": [
    "### 4- race and ethnicity and parental level of education/avg score?"
   ]
  },
  {
   "cell_type": "code",
   "execution_count": 532,
   "id": "247e87fd-33ac-4288-97d5-0b0da6324c8a",
   "metadata": {},
   "outputs": [
    {
     "data": {
      "image/png": "[encoded data removed]",
      "text/plain": [
       "<Figure size 800x500 with 1 Axes>"
      ]
     },
     "metadata": {},
     "output_type": "display_data"
    }
   ],
   "source": [
    "# school_prfmc.groupby([school_prfmc['Ethnicity'], school_prfmc['parents edu']])['Average score'].agg('mean').unstack().plot(kind='barh')\n",
    "# # school_prfmc[['Ethnicity', 'parents education']]\n",
    "# Group by 'Ethnicity' and 'parents edu', calculate the mean of 'Average score', and plot a horizontal bar chart\n",
    "# fig, ax = plt.subplots(figsize=(10, 6))\n",
    "# # ('line', 'bar', 'barh', 'kde', 'density', 'area', 'hist', 'box', 'pie', 'scatter', 'hexbin')\n",
    "# school_prfmc.groupby(['Ethnicity', 'parents edu'])['Average score'].agg('mean').unstack().plot(kind='barh',\n",
    "#                                                                                               title='Average Score by Ethnicity and Parental Education',\n",
    "#                                                                                               xlabel='Average Score',\n",
    "#                                                                                               ylabel='Ethnicity and Parental Education',\n",
    "#                                                                                               figsize=((8, 5)))\n",
    "\n",
    "EPA = school_prfmc.groupby(['Ethnicity', 'parents edu'])['Average score'].agg('mean').unstack().plot(kind='barh',\n",
    "                                                                                                figsize=(8, 5),\n",
    "                                                                                                    title='Average Score by Ethnicity and Parental Education')\n",
    "plt.tight_layout()\n",
    "EPA.set_xlabel('Average Score')\n",
    "EPA.set_ylabel('Ethnicity and Parental Education')\n",
    "plt.tight_layout()\n",
    "plt.savefig('average_score_by_ethnicity.png')\n",
    "plt.show()\n"
   ]
  },
  {
   "cell_type": "markdown",
   "id": "276c4ad9-0596-4467-83c6-b4272a369238",
   "metadata": {},
   "source": [
    "### 5- lunch which category students make better on therescore"
   ]
  },
  {
   "cell_type": "code",
   "execution_count": 491,
   "id": "529bcec9-9bb6-4f9f-8f0e-60ca1c82d5d8",
   "metadata": {},
   "outputs": [
    {
     "data": {
      "image/png": "[encoded data removed]",
      "text/plain": [
       "<Figure size 800x500 with 1 Axes>"
      ]
     },
     "metadata": {},
     "output_type": "display_data"
    }
   ],
   "source": [
    "# Line Plot\n",
    "lunch_avg=school_prfmc.groupby('lunch')['Average score'].agg('mean')\n",
    "lunch_avg.plot(kind='barh', color=['blue', 'orange'],figsize=(8,5))\n",
    "# fig, ax1 = plt.subplots(figsize=(8, 5))\n",
    "plt.title('Does lunch type  effect Academic Achievement', fontsize=14) \n",
    "plt.xlabel('Average score of student', fontsize=12) \n",
    "plt.ylabel('Lunch type', fontsize=12) \n",
    "plt.tight_layout()\n",
    "# plt.show()\n",
    "plt.savefig('Does lunch type  effect Academic Achievement.png')\n",
    "# school_prfmc.groupby(school_prfmc['lunch'])['Average score'].agg('mean').plot(kind='bar',\n",
    "#                                                                              color='purple',\n",
    "#                                                                              title='Does Lunch Type Influences Academic Achievement?',\n",
    "#                                                                              xlabel='Lunch Type',\n",
    "#                                                                              ylabel='Average Score of students')"
   ]
  },
  {
   "cell_type": "code",
   "execution_count": 493,
   "id": "a006eb5c-d5a7-4f0a-90b3-127c758ef867",
   "metadata": {},
   "outputs": [
    {
     "data": {
      "text/plain": [
       "lunch\n",
       "standard        645\n",
       "free/reduced    355\n",
       "Name: count, dtype: int64"
      ]
     },
     "execution_count": 493,
     "metadata": {},
     "output_type": "execute_result"
    }
   ],
   "source": [
    "school_prfmc['lunch'].value_counts()"
   ]
  },
  {
   "cell_type": "markdown",
   "id": "5e86b9d6-69c2-4fc4-a8e8-a68d59f43917",
   "metadata": {},
   "source": [
    "### 5- do the test preparation course make the students  get higher score?\n"
   ]
  },
  {
   "cell_type": "code",
   "execution_count": 502,
   "id": "88d26070-992d-4f9e-83bd-1b0fcd5ebbb9",
   "metadata": {},
   "outputs": [
    {
     "data": {
      "image/png": "[encoded data removed]",
      "text/plain": [
       "<Figure size 640x480 with 1 Axes>"
      ]
     },
     "metadata": {},
     "output_type": "display_data"
    }
   ],
   "source": [
    "test=school_prfmc.groupby('test preparation course')['Average score'].agg('mean').plot(kind='bar',\n",
    "                                                                                 color=('black','gray'))\n",
    "\n",
    "test.set_title('Does test preparation course effect Academic Achievement?')\n",
    "test.set_xlabel('Test  Prep')\n",
    "test.set_ylabel('Average Score of students')\n",
    "plt.savefig('Does test preparation course effect Academic Achievement')"
   ]
  },
  {
   "cell_type": "markdown",
   "id": "2ce5fda3-067e-4bfa-b156-e8a566054781",
   "metadata": {},
   "source": [
    "### 6- what is the maximum and minimum score for each race, math, writing and reading score?"
   ]
  },
  {
   "cell_type": "code",
   "execution_count": 576,
   "id": "59399ee6-bd8e-40bd-9767-de575725f12f",
   "metadata": {},
   "outputs": [],
   "source": [
    "math=school_prfmc.groupby('Ethnicity')['math score'].agg('mean')\n",
    "write=school_prfmc.groupby('Ethnicity')['writing score'].agg('mean')\n",
    "read=school_prfmc.groupby('Ethnicity')['reading score'].agg('mean')"
   ]
  },
  {
   "cell_type": "code",
   "execution_count": 592,
   "id": "c0938ba5-8363-4c6d-9d89-34a0c2f37980",
   "metadata": {},
   "outputs": [
    {
     "data": {
      "text/html": [
       "<div>\n",
       "<style scoped>\n",
       "    .dataframe tbody tr th:only-of-type {\n",
       "        vertical-align: middle;\n",
       "    }\n",
       "\n",
       "    .dataframe tbody tr th {\n",
       "        vertical-align: top;\n",
       "    }\n",
       "\n",
       "    .dataframe thead th {\n",
       "        text-align: right;\n",
       "    }\n",
       "</style>\n",
       "<table border=\"1\" class=\"dataframe\">\n",
       "  <thead>\n",
       "    <tr style=\"text-align: right;\">\n",
       "      <th></th>\n",
       "      <th>Math Score</th>\n",
       "      <th>Writing Score</th>\n",
       "      <th>Reading Score</th>\n",
       "    </tr>\n",
       "  </thead>\n",
       "  <tbody>\n",
       "    <tr>\n",
       "      <th>count</th>\n",
       "      <td>4.000000</td>\n",
       "      <td>4.000000</td>\n",
       "      <td>4.000000</td>\n",
       "    </tr>\n",
       "    <tr>\n",
       "      <th>mean</th>\n",
       "      <td>64.789434</td>\n",
       "      <td>66.671580</td>\n",
       "      <td>68.051216</td>\n",
       "    </tr>\n",
       "    <tr>\n",
       "      <th>std</th>\n",
       "      <td>3.422306</td>\n",
       "      <td>3.355372</td>\n",
       "      <td>2.716662</td>\n",
       "    </tr>\n",
       "    <tr>\n",
       "      <th>min</th>\n",
       "      <td>61.629213</td>\n",
       "      <td>62.674157</td>\n",
       "      <td>64.674157</td>\n",
       "    </tr>\n",
       "    <tr>\n",
       "      <th>25%</th>\n",
       "      <td>62.996777</td>\n",
       "      <td>64.868539</td>\n",
       "      <td>66.683013</td>\n",
       "    </tr>\n",
       "    <tr>\n",
       "      <th>50%</th>\n",
       "      <td>63.958291</td>\n",
       "      <td>66.713793</td>\n",
       "      <td>68.228040</td>\n",
       "    </tr>\n",
       "    <tr>\n",
       "      <th>75%</th>\n",
       "      <td>65.750947</td>\n",
       "      <td>68.516834</td>\n",
       "      <td>69.596243</td>\n",
       "    </tr>\n",
       "    <tr>\n",
       "      <th>max</th>\n",
       "      <td>69.611940</td>\n",
       "      <td>70.584577</td>\n",
       "      <td>71.074627</td>\n",
       "    </tr>\n",
       "  </tbody>\n",
       "</table>\n",
       "</div>"
      ],
      "text/plain": [
       "       Math Score  Writing Score  Reading Score\n",
       "count    4.000000       4.000000       4.000000\n",
       "mean    64.789434      66.671580      68.051216\n",
       "std      3.422306       3.355372       2.716662\n",
       "min     61.629213      62.674157      64.674157\n",
       "25%     62.996777      64.868539      66.683013\n",
       "50%     63.958291      66.713793      68.228040\n",
       "75%     65.750947      68.516834      69.596243\n",
       "max     69.611940      70.584577      71.074627"
      ]
     },
     "execution_count": 592,
     "metadata": {},
     "output_type": "execute_result"
    }
   ],
   "source": [
    "combined_scores = pd.concat([math, write, read], axis=1)\n",
    "combined_scores.columns = ['Math Score', 'Writing Score', 'Reading Score']\n",
    "combined_scores.describe()"
   ]
  },
  {
   "cell_type": "markdown",
   "id": "2d57c3f2-e742-4c23-bdad-bab840ef2af1",
   "metadata": {
    "jp-MarkdownHeadingCollapsed": true
   },
   "source": [
    "##### ignore or try with it your choice"
   ]
  },
  {
   "cell_type": "code",
   "execution_count": 600,
   "id": "9a88980f-232e-46e0-8b51-451386218c30",
   "metadata": {},
   "outputs": [],
   "source": [
    "# # max_min = school_prfmc.groupby('Ethnicity')[['math score', 'reading score', 'writing score']].agg(['min', 'max'])\n",
    "# # max_min.plot(kind='bar')\n",
    "# # high_scores = school_prfmc.groupby('Ethnicity')[['math score', 'reading score', 'writing score']].max()\n",
    "# # low_scores = school_prfmc.groupby('Ethnicity')[['math score', 'reading score', 'writing score']].min()\n",
    "# # high_subject = high_scores.idxmax(axis=1)\n",
    "# # low_subject = low_scores.idxmin(axis=1)\n",
    "# # scores = pd.DataFrame({\n",
    "# #     'Highest Score': high_scores.max(axis=1),\n",
    "# #     'Lowest Score': low_scores.min(axis=1),\n",
    "# #     'Highest Subject': high_subject,\n",
    "# #     'Lowest Subject': low_subject\n",
    "# # })\n",
    "\n",
    "# # scores.plot(kind='bar')\n",
    "# average_scores = school_prfmc.groupby('Ethnicity')[['math score', 'reading score', 'writing score']].mean()\n",
    "# average_scores = school_prfmc.groupby('Ethnicity')[['math score', 'reading score', 'writing score']].mean()\n",
    "\n",
    "# highest_avg_subject = average_scores.idxmax(axis=1)\n",
    "# highest_avg_score = average_scores.max(axis=1)\n",
    "\n",
    "# lowest_avg_subject = average_scores.idxmin(axis=1)\n",
    "# lowest_avg_score = average_scores.min(axis=1)\n",
    "\n",
    "# combined_scores = pd.DataFrame({\n",
    "#     'Highest Average Score': highest_avg_score,\n",
    "#     'Highest Subject': highest_avg_subject,\n",
    "#     'Lowest Average Score': lowest_avg_score,\n",
    "#     'Lowest Subject': lowest_avg_subject\n",
    "# })\n",
    "\n",
    "# fig, ax = plt.subplots(figsize=(12, 7))\n",
    "\n",
    "# combined_scores[['Highest Average Score', 'Lowest Average Score']].plot(kind='barh', ax=ax, color=['green', 'red'])\n",
    "\n",
    "# # Customize the plot\n",
    "# ax.set_title('Highest and Lowest Average Scores by Ethnicity')\n",
    "# ax.set_xlabel('Average Score')\n",
    "# ax.set_ylabel('Ethnicity')\n",
    "# ax.set_xlim(0, 100)\n",
    "# ax.grid(axis='x', linestyle='--', alpha=0.7)\n",
    "\n",
    "# for i, (highest, lowest) in enumerate(zip(combined_scores['Highest Subject'], combined_scores['Lowest Subject'])):\n",
    "#     ax.text(combined_scores['Highest Average Score'].iloc[i] + 2, i,\n",
    "#             highest, fontsize=10)\n",
    "#     ax.text(combined_scores['Lowest Average Score'].iloc[i] - 2, i,\n",
    "#             lowest, fontsize=10)\n",
    "\n",
    "\n",
    "# plt.tight_layout()\n",
    "# plt.show()\n"
   ]
  },
  {
   "cell_type": "code",
   "execution_count": 602,
   "id": "ce169128-d300-4422-a08f-fbab91f6ca30",
   "metadata": {},
   "outputs": [],
   "source": [
    "data_eth={'Math':school_prfmc.groupby('Ethnicity')['math score'].agg('mean'),\n",
    "         'reading':school_prfmc.groupby('Ethnicity')['reading score'].agg('mean'),\n",
    "         'writing':school_prfmc.groupby('Ethnicity')['writing score'].agg('mean') }\n"
   ]
  },
  {
   "cell_type": "code",
   "execution_count": 424,
   "id": "3c631742-8389-4533-a415-b580e7fddc9d",
   "metadata": {},
   "outputs": [
    {
     "data": {
      "text/plain": [
       "array(['Irish', 'Other', 'Unkown', 'White and black Caribbean'],\n",
       "      dtype=object)"
      ]
     },
     "execution_count": 424,
     "metadata": {},
     "output_type": "execute_result"
    }
   ],
   "source": [
    "school_prfmc['Ethnicity'].unique()"
   ]
  },
  {
   "cell_type": "markdown",
   "id": "4af4ea2b-3c41-41dd-b19b-051b04bed8cd",
   "metadata": {},
   "source": [
    "<!-- 2- we find the gender/ avg score which better\n",
    "3- race and ethnicity and parental level of edu avg score? some student  the first language is not english exam: asia students \n",
    "4- lunch which catogery students make better on there score\n",
    "5- do the test prep course make the students get higher grades\n",
    "6- what is the max and min score for each race math write read write. -->"
   ]
  },
  {
   "cell_type": "code",
   "execution_count": 426,
   "id": "0ecf3caf-cf4c-4102-a58c-3a074e3394dc",
   "metadata": {},
   "outputs": [
    {
     "data": {
      "image/png": "[encoded data removed]",
      "text/plain": [
       "<Figure size 600x300 with 1 Axes>"
      ]
     },
     "metadata": {},
     "output_type": "display_data"
    }
   ],
   "source": [
    "plt.figure(figsize=(6, 3))\n",
    "sns.barplot(x=filtereddd.index, y=filtereddd['Average score'])\n",
    "plt.xlabel(\"Parental Level of Education\", fontsize=12)\n",
    "plt.ylabel(\"Average Score students\", fontsize=12)\n",
    "plt.title(\"Average Score of students by Parental Level of Education\", fontsize=14)\n",
    "\n",
    "# Rotate x-axis labels for better visibility\n",
    "plt.xticks(rotation=45)\n",
    "\n",
    "# Show the plot\n",
    "# plt.show()\n",
    "plt.savefig('Average score by parental level of edu.png')\n"
   ]
  },
  {
   "cell_type": "code",
   "execution_count": 429,
   "id": "45f014c3-189d-46b7-a235-179b2f4cffb0",
   "metadata": {},
   "outputs": [],
   "source": [
    "# school_prfmc.math_pass.value_counts().plot(kind = 'bar')"
   ]
  },
  {
   "cell_type": "code",
   "execution_count": 430,
   "id": "ea9a2360-fce5-42b9-a1e6-c9cd14b7842a",
   "metadata": {},
   "outputs": [],
   "source": [
    "# school_prfmc.groupby([school_prfmc.gender, school_prfmc.math_pass]).math_pass.count().unstack().plot(kind='bar')"
   ]
  },
  {
   "cell_type": "code",
   "execution_count": 433,
   "id": "92f8a447-e3eb-4de0-975a-45a018a26196",
   "metadata": {},
   "outputs": [
    {
     "data": {
      "text/plain": [
       "['Math_pass', 'Reading_pass', 'Writing_pass']"
      ]
     },
     "execution_count": 433,
     "metadata": {},
     "output_type": "execute_result"
    }
   ],
   "source": [
    "subjects = [s for s in school_prfmc.columns if '_pass' in s]\n",
    "subjects"
   ]
  },
  {
   "cell_type": "code",
   "execution_count": 434,
   "id": "4d665bf2-eb68-4765-b8cc-1ebe047f0b54",
   "metadata": {},
   "outputs": [
    {
     "data": {
      "text/html": [
       "<div>\n",
       "<style scoped>\n",
       "    .dataframe tbody tr th:only-of-type {\n",
       "        vertical-align: middle;\n",
       "    }\n",
       "\n",
       "    .dataframe tbody tr th {\n",
       "        vertical-align: top;\n",
       "    }\n",
       "\n",
       "    .dataframe thead th {\n",
       "        text-align: right;\n",
       "    }\n",
       "</style>\n",
       "<table border=\"1\" class=\"dataframe\">\n",
       "  <thead>\n",
       "    <tr style=\"text-align: right;\">\n",
       "      <th></th>\n",
       "      <th>Math_pass</th>\n",
       "      <th>Reading_pass</th>\n",
       "      <th>Writing_pass</th>\n",
       "    </tr>\n",
       "  </thead>\n",
       "  <tbody>\n",
       "    <tr>\n",
       "      <th>0</th>\n",
       "      <td>True</td>\n",
       "      <td>True</td>\n",
       "      <td>True</td>\n",
       "    </tr>\n",
       "    <tr>\n",
       "      <th>1</th>\n",
       "      <td>True</td>\n",
       "      <td>True</td>\n",
       "      <td>True</td>\n",
       "    </tr>\n",
       "    <tr>\n",
       "      <th>2</th>\n",
       "      <td>True</td>\n",
       "      <td>True</td>\n",
       "      <td>True</td>\n",
       "    </tr>\n",
       "    <tr>\n",
       "      <th>3</th>\n",
       "      <td>False</td>\n",
       "      <td>False</td>\n",
       "      <td>False</td>\n",
       "    </tr>\n",
       "    <tr>\n",
       "      <th>4</th>\n",
       "      <td>True</td>\n",
       "      <td>True</td>\n",
       "      <td>True</td>\n",
       "    </tr>\n",
       "    <tr>\n",
       "      <th>...</th>\n",
       "      <td>...</td>\n",
       "      <td>...</td>\n",
       "      <td>...</td>\n",
       "    </tr>\n",
       "    <tr>\n",
       "      <th>995</th>\n",
       "      <td>True</td>\n",
       "      <td>True</td>\n",
       "      <td>True</td>\n",
       "    </tr>\n",
       "    <tr>\n",
       "      <th>996</th>\n",
       "      <td>True</td>\n",
       "      <td>False</td>\n",
       "      <td>False</td>\n",
       "    </tr>\n",
       "    <tr>\n",
       "      <th>997</th>\n",
       "      <td>False</td>\n",
       "      <td>True</td>\n",
       "      <td>True</td>\n",
       "    </tr>\n",
       "    <tr>\n",
       "      <th>998</th>\n",
       "      <td>True</td>\n",
       "      <td>True</td>\n",
       "      <td>True</td>\n",
       "    </tr>\n",
       "    <tr>\n",
       "      <th>999</th>\n",
       "      <td>True</td>\n",
       "      <td>True</td>\n",
       "      <td>True</td>\n",
       "    </tr>\n",
       "  </tbody>\n",
       "</table>\n",
       "<p>1000 rows × 3 columns</p>\n",
       "</div>"
      ],
      "text/plain": [
       "     Math_pass  Reading_pass  Writing_pass\n",
       "0         True          True          True\n",
       "1         True          True          True\n",
       "2         True          True          True\n",
       "3        False         False         False\n",
       "4         True          True          True\n",
       "..         ...           ...           ...\n",
       "995       True          True          True\n",
       "996       True         False         False\n",
       "997      False          True          True\n",
       "998       True          True          True\n",
       "999       True          True          True\n",
       "\n",
       "[1000 rows x 3 columns]"
      ]
     },
     "execution_count": 434,
     "metadata": {},
     "output_type": "execute_result"
    }
   ],
   "source": [
    "filt=school_prfmc[subjects]=='Pass'\n",
    "filt"
   ]
  }
 ],
 "metadata": {
  "kernelspec": {
   "display_name": "Python [conda env:base] *",
   "language": "python",
   "name": "conda-base-py"
  },
  "language_info": {
   "codemirror_mode": {
    "name": "ipython",
    "version": 3
   },
   "file_extension": ".py",
   "mimetype": "text/x-python",
   "name": "python",
   "nbconvert_exporter": "python",
   "pygments_lexer": "ipython3",
   "version": "3.12.7"
  }
 },
 "nbformat": 4,
 "nbformat_minor": 5
}
